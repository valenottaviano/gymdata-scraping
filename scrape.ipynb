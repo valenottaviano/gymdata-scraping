{
 "cells": [
  {
   "cell_type": "code",
   "execution_count": 1,
   "metadata": {},
   "outputs": [],
   "source": [
    "import pandas as pd\n",
    "import json\n",
    "import requests\n",
    "import time\n",
    "from time import sleep\n",
    "from tqdm import tqdm\n",
    "import random\n"
   ]
  },
  {
   "cell_type": "markdown",
   "metadata": {},
   "source": [
    "## Scrape entire dataset"
   ]
  },
  {
   "cell_type": "code",
   "execution_count": null,
   "metadata": {},
   "outputs": [],
   "source": [
    "# exercise_full = {}\n",
    "\n",
    "# with open('./gym.json') as json_file:\n",
    "#     data = json.load(json_file)\n",
    "\n",
    "# for exercise in tqdm(data):\n",
    "#     slug = exercise['target_url']['male'].split('/')[-1]\n",
    "#     try :\n",
    "#         exercise_full[slug]\n",
    "#         continue\n",
    "#     except:\n",
    "#         res = requests.get(f'https://musclewiki.com/newapi/exercise/exercises/?slug={slug}').json()['results'][0]\n",
    "#         exercise_full[slug] = res\n",
    "#         time.sleep(random.randint(0,3))"
   ]
  },
  {
   "cell_type": "code",
   "execution_count": 2,
   "metadata": {},
   "outputs": [],
   "source": [
    "exercise_full = {}\n",
    "\n",
    "with open('./gym-full.json') as json_file:\n",
    "    exercise_full = json.load(json_file)"
   ]
  },
  {
   "cell_type": "markdown",
   "metadata": {},
   "source": [
    "### Extract primitive datasets"
   ]
  },
  {
   "cell_type": "code",
   "execution_count": 4,
   "metadata": {},
   "outputs": [],
   "source": [
    "steps = {}\n",
    "\n",
    "for exercise in exercise_full.values():\n",
    "    for step in exercise['correct_steps']:\n",
    "        steps[step['id']] = step\n",
    "        \n",
    "steps = list(steps.values())\n",
    "\n",
    "with open('correct-steps.json', 'w') as fp:\n",
    "    json.dump(steps, fp)"
   ]
  },
  {
   "cell_type": "code",
   "execution_count": 12,
   "metadata": {},
   "outputs": [],
   "source": [
    "muscles = {}\n",
    "\n",
    "for exercise in exercise_full.values():\n",
    "    for muscle in exercise['muscles']:\n",
    "        muscles[muscle['id']] = muscle\n",
    "        \n",
    "muscles = list(muscles.values())\n",
    "\n",
    "with open('muscles.json', 'w') as fp:\n",
    "    json.dump(muscles, fp)"
   ]
  },
  {
   "cell_type": "code",
   "execution_count": 35,
   "metadata": {},
   "outputs": [],
   "source": [
    "grips = {}\n",
    "\n",
    "for exercise in exercise_full.values():\n",
    "    for grip in exercise['grips']:\n",
    "        grips[grip['id']] = grip\n",
    "\n",
    "grips = list(grips.values())\n",
    "with open('grips.json', 'w') as fp:\n",
    "    json.dump(grips, fp)\n"
   ]
  },
  {
   "cell_type": "code",
   "execution_count": 32,
   "metadata": {},
   "outputs": [],
   "source": [
    "categories = {}\n",
    "for exercise in exercise_full.values():\n",
    "    categories[exercise['category']['id']] = exercise['category']\n",
    "\n",
    "categories = list(categories.values())\n",
    "\n",
    "with open('categories.json', 'w') as fp:\n",
    "    json.dump(categories, fp)\n"
   ]
  },
  {
   "cell_type": "code",
   "execution_count": 38,
   "metadata": {},
   "outputs": [],
   "source": [
    "difficulty = {}\n",
    "\n",
    "for exercise in exercise_full.values():\n",
    "    difficulty[exercise['difficulty']['id']] = exercise['difficulty']\n",
    "\n",
    "difficulty = list(difficulty.values())\n",
    "\n",
    "with open('difficulties.json', 'w') as fp:\n",
    "    json.dump(difficulty, fp)"
   ]
  },
  {
   "cell_type": "code",
   "execution_count": 44,
   "metadata": {},
   "outputs": [],
   "source": [
    "forces = {}\n",
    "\n",
    "for exercise in exercise_full.values():\n",
    "    try:\n",
    "        forces[exercise['force']['id']] = exercise['force']\n",
    "    except:\n",
    "        continue\n",
    "\n",
    "forces = list(forces.values())\n",
    "\n",
    "with open('forces.json', 'w') as fp:\n",
    "    json.dump(forces, fp)\n"
   ]
  },
  {
   "cell_type": "code",
   "execution_count": null,
   "metadata": {},
   "outputs": [],
   "source": [
    "forces = {}\n",
    "\n",
    "for exercise in exercise_full.values():\n",
    "    try:\n",
    "        forces[exercise['force']['id']] = exercise['force']\n",
    "    except:\n",
    "        continue\n",
    "\n",
    "forces = list(forces.values())\n",
    "\n",
    "with open('forces.json', 'w') as fp:\n",
    "    json.dump(forces, fp)\n"
   ]
  },
  {
   "cell_type": "code",
   "execution_count": 48,
   "metadata": {},
   "outputs": [],
   "source": [
    "mechanic = {}\n",
    "\n",
    "for exercise in exercise_full.values():\n",
    "    try:\n",
    "        mechanic[exercise['mechanic']['id']] = exercise['mechanic']\n",
    "    except:\n",
    "        continue\n",
    "\n",
    "mechanic = list(mechanic.values())\n",
    "\n",
    "with open('mechanics.json', 'w') as fp:\n",
    "    json.dump(mechanic, fp)\n"
   ]
  },
  {
   "cell_type": "code",
   "execution_count": 60,
   "metadata": {},
   "outputs": [],
   "source": [
    "images = {}\n",
    "\n",
    "for exercise in exercise_full.values():\n",
    "    for img in exercise['images']:\n",
    "        images[img['id']] = img\n",
    "\n",
    "    \n",
    "images = list(images.values())\n",
    "\n",
    "with open('images.json', 'w') as fp:\n",
    "    json.dump(images, fp)\n"
   ]
  }
 ],
 "metadata": {
  "kernelspec": {
   "display_name": "venv",
   "language": "python",
   "name": "python3"
  },
  "language_info": {
   "codemirror_mode": {
    "name": "ipython",
    "version": 3
   },
   "file_extension": ".py",
   "mimetype": "text/x-python",
   "name": "python",
   "nbconvert_exporter": "python",
   "pygments_lexer": "ipython3",
   "version": "3.10.12"
  }
 },
 "nbformat": 4,
 "nbformat_minor": 2
}
