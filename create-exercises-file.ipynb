{
 "cells": [
  {
   "cell_type": "code",
   "execution_count": 3,
   "metadata": {},
   "outputs": [],
   "source": [
    "import pandas as pd\n",
    "import json\n",
    "import requests\n",
    "import time\n",
    "from time import sleep\n",
    "from tqdm import tqdm\n",
    "import random"
   ]
  },
  {
   "cell_type": "code",
   "execution_count": 4,
   "metadata": {},
   "outputs": [],
   "source": [
    "exercise_full = {}\n",
    "\n",
    "with open('./gym-full.json') as json_file:\n",
    "    exercise_full = json.load(json_file)"
   ]
  },
  {
   "cell_type": "markdown",
   "metadata": {},
   "source": [
    "## Relationals dataset"
   ]
  },
  {
   "cell_type": "code",
   "execution_count": 5,
   "metadata": {},
   "outputs": [],
   "source": [
    "def flatten(xss):\n",
    "    return [x for xs in xss for x in xs]"
   ]
  },
  {
   "cell_type": "code",
   "execution_count": 21,
   "metadata": {},
   "outputs": [],
   "source": [
    "rel_exercise_muscles = []\n",
    "for exercise in exercise_full.values():\n",
    "    rel_exercise_muscles.append([{\n",
    "        'exercise_id': exercise['id'], \n",
    "        'muscle_id': muscle['id']\n",
    "    } for muscle in exercise['muscles']])\n",
    "    \n",
    "rel_exercise_muscles = flatten(rel_exercise_muscles)\n",
    "\n",
    "with open('rel-exercise-muscle.json', 'w') as fp:\n",
    "    json.dump(rel_exercise_muscles, fp)"
   ]
  },
  {
   "cell_type": "code",
   "execution_count": 23,
   "metadata": {},
   "outputs": [],
   "source": [
    "rel_exercise_muscles_primary = []\n",
    "for exercise in exercise_full.values():\n",
    "    rel_exercise_muscles_primary.append([{\n",
    "        'exercise_id': exercise['id'], \n",
    "        'muscle_id': muscle['id']\n",
    "    } for muscle in exercise['muscles_primary']])\n",
    "    \n",
    "rel_exercise_muscles_primary = flatten(rel_exercise_muscles_primary)\n",
    "\n",
    "with open('rel-exercise-muscle-primary.json', 'w') as fp:\n",
    "    json.dump(rel_exercise_muscles_primary, fp)"
   ]
  },
  {
   "cell_type": "code",
   "execution_count": 24,
   "metadata": {},
   "outputs": [],
   "source": [
    "rel_exercise_muscles_secondary = []\n",
    "for exercise in exercise_full.values():\n",
    "    rel_exercise_muscles_secondary.append([{\n",
    "        'exercise_id': exercise['id'], \n",
    "        'muscle_id': muscle['id']\n",
    "    } for muscle in exercise['muscles_secondary']])\n",
    "    \n",
    "rel_exercise_muscles_secondary = flatten(rel_exercise_muscles_secondary)\n",
    "\n",
    "with open('rel-exercise-muscle-secondary.json', 'w') as fp:\n",
    "    json.dump(rel_exercise_muscles_secondary, fp)"
   ]
  },
  {
   "cell_type": "code",
   "execution_count": 25,
   "metadata": {},
   "outputs": [],
   "source": [
    "rel_exercise_muscles_tertiary = []\n",
    "for exercise in exercise_full.values():\n",
    "    rel_exercise_muscles_tertiary.append([{\n",
    "        'exercise_id': exercise['id'], \n",
    "        'muscle_id': muscle['id']\n",
    "    } for muscle in exercise['muscles_tertiary']])\n",
    "    \n",
    "rel_exercise_muscles_tertiary = flatten(rel_exercise_muscles_tertiary)\n",
    "\n",
    "with open('rel-exercise-muscle-tertiary.json', 'w') as fp:\n",
    "    json.dump(rel_exercise_muscles_tertiary, fp)"
   ]
  },
  {
   "cell_type": "code",
   "execution_count": 8,
   "metadata": {},
   "outputs": [],
   "source": [
    "rel_exercise_category = []\n",
    "for exercise in exercise_full.values():\n",
    "    rel_exercise_category.append({\n",
    "        'exercise_id': exercise['id'], \n",
    "        'category_id': exercise['category']['id']\n",
    "    })\n",
    "    \n",
    "with open('rel-exercise-category.json', 'w') as fp:\n",
    "    json.dump(rel_exercise_category, fp)"
   ]
  },
  {
   "cell_type": "code",
   "execution_count": 33,
   "metadata": {},
   "outputs": [],
   "source": [
    "rel_exercise_difficulty = []\n",
    "for exercise in exercise_full.values():\n",
    "    rel_exercise_difficulty.append({\n",
    "        'exercise_id': exercise['id'], \n",
    "        'difficulty_id': exercise['difficulty']['id']\n",
    "    })\n",
    "    \n",
    "with open('rel-exercise-difficulty.json', 'w') as fp:\n",
    "    json.dump(rel_exercise_difficulty, fp)"
   ]
  },
  {
   "cell_type": "code",
   "execution_count": 34,
   "metadata": {},
   "outputs": [],
   "source": [
    "rel_exercise_grips = []\n",
    "for exercise in exercise_full.values():\n",
    "    rel_exercise_grips.append([{\n",
    "        'exercise_id': exercise['id'], \n",
    "        'grip_id': grip['id']\n",
    "    } for grip in exercise['grips']])\n",
    "    \n",
    "rel_exercise_grips = flatten(rel_exercise_grips)\n",
    "\n",
    "with open('rel-exercise-grips.json', 'w') as fp:\n",
    "    json.dump(rel_exercise_grips, fp)"
   ]
  },
  {
   "cell_type": "code",
   "execution_count": 38,
   "metadata": {},
   "outputs": [],
   "source": [
    "rel_exercise_force = []\n",
    "for exercise in exercise_full.values():\n",
    "    if(not exercise['force']): continue\n",
    "    rel_exercise_force.append({\n",
    "        'exercise_id': exercise['id'], \n",
    "        'force_id': exercise['force']['id']\n",
    "    })\n",
    "    \n",
    "with open('rel-exercise-force.json', 'w') as fp:\n",
    "    json.dump(rel_exercise_force, fp)"
   ]
  },
  {
   "cell_type": "code",
   "execution_count": 4,
   "metadata": {},
   "outputs": [],
   "source": [
    "rel_exercise_mechanic = []\n",
    "for exercise in exercise_full.values():\n",
    "    if(not exercise['mechanic']): continue\n",
    "    rel_exercise_mechanic.append({\n",
    "        'exercise_id': exercise['id'], \n",
    "        'mechanic_id': exercise['mechanic']['id']\n",
    "    })\n",
    "    \n",
    "with open('rel-exercise-mechanic.json', 'w') as fp:\n",
    "    json.dump(rel_exercise_mechanic, fp)"
   ]
  },
  {
   "cell_type": "code",
   "execution_count": 7,
   "metadata": {},
   "outputs": [],
   "source": [
    "rel_exercise_correct_steps = []\n",
    "for exercise in exercise_full.values():\n",
    "    rel_exercise_correct_steps.append([{\n",
    "        'exercise_id': exercise['id'], \n",
    "        'grip_id': grip['id']\n",
    "    } for grip in exercise['correct_steps']])\n",
    "    \n",
    "rel_exercise_correct_steps = flatten(rel_exercise_correct_steps)\n",
    "\n",
    "with open('rel-exercise-correct-steps.json', 'w') as fp:\n",
    "    json.dump(rel_exercise_correct_steps, fp)"
   ]
  },
  {
   "cell_type": "markdown",
   "metadata": {},
   "source": [
    "## Exercises File"
   ]
  },
  {
   "cell_type": "code",
   "execution_count": 12,
   "metadata": {},
   "outputs": [],
   "source": [
    "properties = [\n",
    "    'id',\n",
    "    'name_en_us',\n",
    "    'slug',\n",
    "    'description_en_us',\n",
    "]\n",
    "\n",
    "exercises = {}\n",
    "\n",
    "for exercise in exercise_full.values():\n",
    "    content = {}\n",
    "    for prop in properties:\n",
    "        content[prop] = exercise[prop]\n",
    "\n",
    "    for prop in ['category', 'difficulty', 'force', 'mechanic']:\n",
    "        content[prop] = exercise[prop]['id'] if exercise[prop] else None \n",
    "        # if(content[prop]):\n",
    "        #     content[prop] = exercise[prop]['id']\n",
    "        # else:\n",
    "        #     content[prop] = None\n",
    "\n",
    "    exercises[content['id']] = content\n",
    "\n",
    "with open('exercises.json', 'w') as fp:\n",
    "    json.dump(exercises, fp)\n"
   ]
  }
 ],
 "metadata": {
  "kernelspec": {
   "display_name": "venv",
   "language": "python",
   "name": "python3"
  },
  "language_info": {
   "codemirror_mode": {
    "name": "ipython",
    "version": 3
   },
   "file_extension": ".py",
   "mimetype": "text/x-python",
   "name": "python",
   "nbconvert_exporter": "python",
   "pygments_lexer": "ipython3",
   "version": "3.10.12"
  }
 },
 "nbformat": 4,
 "nbformat_minor": 2
}
